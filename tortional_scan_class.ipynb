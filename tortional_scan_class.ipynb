{
 "cells": [
  {
   "cell_type": "code",
   "execution_count": 1,
   "id": "76929013",
   "metadata": {},
   "outputs": [],
   "source": [
    "import numpy as np\n",
    "import matplotlib.pyplot as plt\n",
    "import rdkit \n",
    "import cclib\n",
    "import itertools\n",
    "from rdkit import Chem\n",
    "from rdkit.Chem import AllChem, Draw\n",
    "import requests\n",
    "from itertools import combinations\n",
    "from typing import List"
   ]
  },
  {
   "cell_type": "code",
   "execution_count": 2,
   "id": "9beb56fe",
   "metadata": {},
   "outputs": [],
   "source": [
    "from aiida.engine import ToContext, WorkChain, calcfunction\n",
    "from aiida.plugins.factories import CalculationFactory"
   ]
  },
  {
   "cell_type": "code",
   "execution_count": 3,
   "id": "7b3f94ad",
   "metadata": {},
   "outputs": [],
   "source": [
    "import os\n",
    "import os.path\n",
    "import shutil\n",
    "import subprocess"
   ]
  },
  {
   "cell_type": "code",
   "execution_count": 4,
   "id": "6c0599da",
   "metadata": {},
   "outputs": [],
   "source": [
    "def combine_fragments(fragments: List[str]) -> List[Chem.rdchem.Mol]:\n",
    "    # Get all SMILES for all possible combinations (of 2 fragments) of the fragment list\n",
    "    all_smiles = (f'{smiles1}.{smiles2}'.replace('(*)', '9')\n",
    "                    for smiles1, smiles2 in combinations(fragments, r=2))\n",
    "    # Convert all SMILES to mol objects\n",
    "    mols = [Chem.MolFromSmiles(smi) for smi in all_smiles]\n",
    "    return mols\n",
    "    #Creates a list of all the possible combinations as RDKit info\n",
    "    \n",
    "def getBond(mol):\n",
    "    #rotatable bonds\n",
    "    #\n",
    "    pattern = Chem.MolFromSmarts('[R!$(*#*)&!D1]-!@[R!$(*#*)&!D1]')\n",
    "    bonds = mol.GetSubstructMatches(pattern)\n",
    "    return bonds\n",
    "        \n",
    "#3 14 21 22 S 35 10.0\n",
    "def getTorsion(mol,bond):\n",
    "    # get neighbors of first atom in bond\n",
    "    for atom in mol.GetAtomWithIdx(bond[0]).GetNeighbors(): \n",
    "        idx = atom.GetIdx()\n",
    "        mass = atom.GetMass() \n",
    "        if idx!=bond[1]: #excludes the other atom in the bond\n",
    "            if mass > 13: # N, S, O get priority\n",
    "                first=idx\n",
    "                break\n",
    "            if mass > 12: # otherwise C \n",
    "                first=idx\n",
    "    # get neighbors of second atom in bond\n",
    "    for atom in mol.GetAtomWithIdx(bond[1]).GetNeighbors():\n",
    "        idx=atom.GetIdx()\n",
    "        mass = atom.GetMass() \n",
    "        if idx!=bond[0]: #excludes the other atom in the bond\n",
    "            if mass > 13: # N, S, O get priority\n",
    "                last=idx\n",
    "                break\n",
    "            if mass > 12: # otherwise C \n",
    "                last=idx\n",
    "\n",
    "    return (first, bond[0], bond[1], last)\n",
    "        \n",
    "def embed_molecule(mol):\n",
    "    addhs = Chem.AddHs(mol)\n",
    "    AllChem.EmbedMolecule(addhs) # the embedded molecule\n",
    "    return addhs\n",
    "        \n",
    "def write_gaussian_scan_input(dimer, dimer_name, torsion):\n",
    "\n",
    "    # get atom names\n",
    "    symbols = [a.GetSymbol() for a in dimer.GetAtoms()] \n",
    "    # get x y z coords\n",
    "    geometry=dimer.GetConformers()[0]\n",
    "    # unpack torsion terms and add 1 for fortran 1-based numbering\n",
    "    a1, a2, a3, a4 = [t+1 for t in torsion]\n",
    "    file_name = f'{dimer_name}.com' \n",
    "    chk_name = f'{dimer_name}.chk' \n",
    "    title = f'scan dihedral {dimer_name}'\n",
    "    mult_chg = '0 1' # by default all dimers are neutral and singlets!\n",
    "    with open(file_name, 'w') as file:\n",
    "        file.write(f'%chk={chk_name}\\n') # \n",
    "        file.write('#p B3LYP/6-31G* opt=modredundant, nosymm\\n') # \n",
    "        file.write(' \\n')# \n",
    "        file.write(f'{title}\\n')# \n",
    "        file.write(' \\n')# \n",
    "        file.write(f'{mult_chg} \\n')# \n",
    "        for atom,symbol in enumerate(symbols):\n",
    "            p = geometry.GetAtomPosition(atom)\n",
    "            # atom  x y z\n",
    "            line = f' {symbol} {p.x:.5f} {p.y:.5f} {p.z:.5f} \\n' \n",
    "            file.write(line)\n",
    "        file.write(' \\n')\n",
    "        file.write(f'{a1} {a2} {a3} {a4} S 35 10.0\\n')\n",
    "        file.write(' \\n')\n",
    "\n",
    "def write_slurm_input(dimer_name):\n",
    "\n",
    "\n",
    "    file_name = f'{dimer_name}.sh' \n",
    "    title = f'#!/bin/bash --login'\n",
    "    with open(file_name, 'w') as file:\n",
    "        file.write(f'{title}\\n')# \n",
    "        file.write(f'#SBATCH -o g09_%J.out \\n')\n",
    "        file.write(f'#SBATCH -e g09_%J.err \\n')#\n",
    "        file.write(f'#SBATCH --job-name={dimer_name}_job \\n')\n",
    "        file.write(f'#SBATCH -p cpu \\n')\n",
    "        file.write(f'#SBATCH --ntasks=10 \\n')\n",
    "        file.write(f'#SBATCH --nodes=1 \\n')\n",
    "        file.write(f'#SBATCH --tasks-per-node=10 \\n')\n",
    "        file.write(f'#SBATCH --mem-per-cpu=4000 \\n')\n",
    "        file.write(f'#SBATCH --time=48:00:00 \\n')\n",
    "        file.write(' \\n')#\n",
    "        file.write(f'INPUTFILE={dimer_name}.com \\n')\n",
    "        file.write(f'OUTPUTFILE=\"\\$(basename \"\\$INPUTFILE\" .com).log\" \\n')\n",
    "        file.write(' \\n')\n",
    "        file.write(f'module purge \\n')\n",
    "        file.write(f'module load test_switch_kcl/1.0.0-gcc-9.4.08. \\n')\n",
    "        file.write(f'module load gaussian_sse4_kcl/09-E-gcc-9.4.0 \\n')\n",
    "        file.write(f'export GOMP_CPU_AFFINITY=$SGE_BINDING \\n')\n",
    "        file.write(f'export KMP_AFFINITY=\"explicit,proclist=$SGE_BINDING,verbose\" \\n')\n",
    "        file.write(f'#source $g09root/bsd/g09.login \\n')\n",
    "        file.write(' \\n')\n",
    "        file.write(f'echo \"G09 job \\$SLURM_JOBID\" \\n')\n",
    "        file.write(f'echo \"INPUT \\$INPUTFILE\" \\n')\n",
    "        file.write(f'echo \"OUTPUT \\$OUTPUTFILE\" \\n')\n",
    "        file.write(f'echo \"Running \\$SLURM_NTASKS on \\$SLURM_JOB_NODELIST\" \\n')\n",
    "        file.write(' \\n')\n",
    "        file.write(f'#Execution Line \\n')\n",
    "        file.write(f'g09 \"$INPUTFILE\" > \"$OUTPUTFILE\" \\n')\n",
    "        \n",
    "def submit_slurm_job(dimer_name):\n",
    "    \"\"\"\n",
    "    Submit a slurm job\n",
    "\n",
    "    \"\"\"\n",
    "    \n",
    "    string = f'sbatch {dimer_name}.sh' \n",
    "    \n",
    "    process = subprocess.run(string,\n",
    "                     stdout=subprocess.PIPE,\n",
    "                     stderr=subprocess.PIPE, shell=True,check=True)\n",
    "    return process.stdout\n",
    "\n",
    "def delete_sh(dimer_name):\n",
    "    return os.remove(f'{dimer_name}.sh')\n",
    "\n",
    "def delete_com(dimer_name):\n",
    "    return os.remove(f'{dimer_name}.com')"
   ]
  },
  {
   "cell_type": "code",
   "execution_count": 10,
   "id": "6ee2f884",
   "metadata": {},
   "outputs": [],
   "source": [
    "def TortionalScanAuto(smiles_list_with_attach):\n",
    "    \n",
    "    dimers_list = combine_fragments(smiles_list_with_attach) #all the possible combinations of fragments\n",
    "\n",
    "    bonds_list = []\n",
    "    for dimer in dimers_list:\n",
    "        bonds_list.append(getBond(dimer)) #finds the bonds between the fragments\n",
    "\n",
    "    torsions_list=[]\n",
    "    for bond, dimer in zip(bonds_list, dimers_list):\n",
    "        torsions_list.append(getTorsion(dimer,list(bond[0]))) #obtains the torsion of the bond between fragments\n",
    "    \n",
    "    dimers_3dlist=[]\n",
    "    for dimer in dimers_list:\n",
    "        dimer = embed_molecule(dimer)\n",
    "        dimers_3dlist.append(dimer) #get coordinates of the dimer\n",
    "\n",
    "    dimer_dic = { i : d for i, d in enumerate(dimers_3dlist)} #creates a list and numbers all the dimers\n",
    "    \n",
    "    os.mkdir('tortional_inputs') #creates a directory named tortional_scan\n",
    "    \n",
    "    os.chdir('tortional_inputs') #goes into that directory\n",
    "    \n",
    "    for (k, v), t in zip(dimer_dic.items(), torsions_list):\n",
    "        os.mkdir(f'{k}-Job')\n",
    "        os.chdir(f'{k}-Job')\n",
    "        write_gaussian_scan_input(v, k, t) #writes the input file\n",
    "        write_slurm_input(k) #writes the SLURM File\n",
    "        #submit_slurm_job(k) #submits SLURM jobs\n",
    "        os.chdir(os.path.dirname(os.getcwd())) #goes back to previous directory\n",
    "        #delete_sh(k) #deletes all the SLURM files\n",
    "        #delete_com(k) #deletes all the inputs"
   ]
  },
  {
   "cell_type": "code",
   "execution_count": null,
   "id": "655fc2d3",
   "metadata": {},
   "outputs": [],
   "source": [
    "#the same fragments as above, with attachment point (*)\n",
    "smiles_list_with_attach = [\n",
    "'CC1=C(*)SC=C1',\n",
    "'COC1=C(*)SC=C1',\n",
    "'CNC1=C(*)SC=C1',\n",
    "]"
   ]
  },
  {
   "cell_type": "code",
   "execution_count": 15,
   "id": "363ddb5d",
   "metadata": {},
   "outputs": [],
   "source": [
    "mol_list = np.genfromtxt('example_mols.txt',dtype='str')"
   ]
  },
  {
   "cell_type": "code",
   "execution_count": 16,
   "id": "46a70400",
   "metadata": {},
   "outputs": [
    {
     "data": {
      "text/plain": [
       "array(['CC1=C(*)SC=C1', 'COC1=C(*)SC=C1', 'CNC1=C(*)SC=C1',\n",
       "       'CC1=C(*)OC=C1', 'COC1=C(*)OC=C1', 'CNC1=C(*)OC=C1',\n",
       "       'C1(*)=CC=CO1', 'C1(*)=CC=CS1', 'C1(C=C(*)S2)=C2C=CS1',\n",
       "       'C12=C(*)SC=C1OCCO2', 'C12=NSN=C1C=CC=C2(*)',\n",
       "       'O=C1NC(*)C2=C1CNC2=O', 'O=C1N(C)C(*)C2=C1CN(C)C2=O',\n",
       "       'COC1(OC)C2=CC(*)=CC=C2C3=C1C=CC=C3',\n",
       "       'CC1(C)C2=CC(*)=CC=C2C3=C1C=CC=C3',\n",
       "       'O=C(NC1=C/2SC=C1)C2=C3C4=C(C=C(*)S4)NC/3=O',\n",
       "       'O=C1N(C)C2=C(C=CC(*)=C2)/C1=C3C(C=CC=C4)=C4N(C)C/3=O',\n",
       "       'O=C1NC2=C(C=CC(*)=C2)/C1=C3C(C=CC=C4)=C4NC/3=O',\n",
       "       'O=C1N(C)C2=C(C=CC(*)=N2)/C1=C3C(C=CC=N4)=C4N(C)C/3=O',\n",
       "       'O=C1NC2=C(C=CC(*)=N2)/C1=C3C(C=CC=N4)=C4NC/3=O',\n",
       "       'COC(=O)C1=CC2=C(N1C)C=C(OC)C(OC)=C2(*)',\n",
       "       'COC(=O)C1=CC2=C(N1C)C(*)=C(OC)C(OC)=C2',\n",
       "       'C1(*)=CC2=C(N1C)C=C(OC)C(OC)=C2',\n",
       "       'C1=CC2=C(N1C)C=C(OC)C(OC)=C2(*)',\n",
       "       'C1=CC2=C(N1C)C(*)=C(OC)C(OC)=C2'], dtype='<U52')"
      ]
     },
     "execution_count": 16,
     "metadata": {},
     "output_type": "execute_result"
    }
   ],
   "source": [
    "mol_list"
   ]
  },
  {
   "cell_type": "code",
   "execution_count": 12,
   "id": "ccbce371",
   "metadata": {},
   "outputs": [],
   "source": [
    "#TortionalScanAuto(mol_list)"
   ]
  },
  {
   "cell_type": "code",
   "execution_count": 13,
   "id": "15ba6fd1",
   "metadata": {},
   "outputs": [],
   "source": [
    "os.chdir('/home/k2255489/auto_run/auto_workflow/')"
   ]
  },
  {
   "cell_type": "code",
   "execution_count": 14,
   "id": "ef1015c8",
   "metadata": {},
   "outputs": [
    {
     "data": {
      "text/plain": [
       "'/home/k2255489/auto_run/auto_workflow'"
      ]
     },
     "execution_count": 14,
     "metadata": {},
     "output_type": "execute_result"
    }
   ],
   "source": [
    "os.getcwd()"
   ]
  },
  {
   "cell_type": "code",
   "execution_count": null,
   "id": "d2da418d",
   "metadata": {},
   "outputs": [],
   "source": []
  }
 ],
 "metadata": {
  "kernelspec": {
   "display_name": "Python 3 (ipykernel)",
   "language": "python",
   "name": "python3"
  },
  "language_info": {
   "codemirror_mode": {
    "name": "ipython",
    "version": 3
   },
   "file_extension": ".py",
   "mimetype": "text/x-python",
   "name": "python",
   "nbconvert_exporter": "python",
   "pygments_lexer": "ipython3",
   "version": "3.9.13"
  }
 },
 "nbformat": 4,
 "nbformat_minor": 5
}
